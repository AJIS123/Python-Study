{
 "cells": [
  {
   "cell_type": "code",
   "execution_count": 1,
   "metadata": {
    "collapsed": true
   },
   "outputs": [],
   "source": [
    "import psycopg2 as pg2"
   ]
  },
  {
   "cell_type": "code",
   "execution_count": 11,
   "metadata": {
    "collapsed": false
   },
   "outputs": [],
   "source": [
    "conn = pg2.connect(database='dvdrental', user='postgres',password='**')"
   ]
  },
  {
   "cell_type": "code",
   "execution_count": 12,
   "metadata": {
    "collapsed": true
   },
   "outputs": [],
   "source": [
    "cur = conn.cursor()"
   ]
  },
  {
   "cell_type": "code",
   "execution_count": 13,
   "metadata": {
    "collapsed": false
   },
   "outputs": [],
   "source": [
    "cur.execute('SELECT * FROM payment')"
   ]
  },
  {
   "cell_type": "code",
   "execution_count": 14,
   "metadata": {
    "collapsed": false
   },
   "outputs": [
    {
     "data": {
      "text/plain": [
       "(17503,\n",
       " 341,\n",
       " 2,\n",
       " 1520,\n",
       " Decimal('7.99'),\n",
       " datetime.datetime(2007, 2, 15, 22, 25, 46, 996577))"
      ]
     },
     "execution_count": 14,
     "metadata": {},
     "output_type": "execute_result"
    }
   ],
   "source": [
    "cur.fetchone()"
   ]
  },
  {
   "cell_type": "code",
   "execution_count": 15,
   "metadata": {
    "collapsed": false
   },
   "outputs": [
    {
     "data": {
      "text/plain": [
       "[(17504,\n",
       "  341,\n",
       "  1,\n",
       "  1778,\n",
       "  Decimal('1.99'),\n",
       "  datetime.datetime(2007, 2, 16, 17, 23, 14, 996577)),\n",
       " (17505,\n",
       "  341,\n",
       "  1,\n",
       "  1849,\n",
       "  Decimal('7.99'),\n",
       "  datetime.datetime(2007, 2, 16, 22, 41, 45, 996577)),\n",
       " (17506,\n",
       "  341,\n",
       "  2,\n",
       "  2829,\n",
       "  Decimal('2.99'),\n",
       "  datetime.datetime(2007, 2, 19, 19, 39, 56, 996577)),\n",
       " (17507,\n",
       "  341,\n",
       "  2,\n",
       "  3130,\n",
       "  Decimal('7.99'),\n",
       "  datetime.datetime(2007, 2, 20, 17, 31, 48, 996577)),\n",
       " (17508,\n",
       "  341,\n",
       "  1,\n",
       "  3382,\n",
       "  Decimal('5.99'),\n",
       "  datetime.datetime(2007, 2, 21, 12, 33, 49, 996577)),\n",
       " (17509,\n",
       "  342,\n",
       "  2,\n",
       "  2190,\n",
       "  Decimal('5.99'),\n",
       "  datetime.datetime(2007, 2, 17, 23, 58, 17, 996577)),\n",
       " (17510,\n",
       "  342,\n",
       "  1,\n",
       "  2914,\n",
       "  Decimal('5.99'),\n",
       "  datetime.datetime(2007, 2, 20, 2, 11, 44, 996577)),\n",
       " (17511,\n",
       "  342,\n",
       "  1,\n",
       "  3081,\n",
       "  Decimal('2.99'),\n",
       "  datetime.datetime(2007, 2, 20, 13, 57, 39, 996577)),\n",
       " (17512,\n",
       "  343,\n",
       "  2,\n",
       "  1547,\n",
       "  Decimal('4.99'),\n",
       "  datetime.datetime(2007, 2, 16, 0, 10, 50, 996577)),\n",
       " (17513,\n",
       "  343,\n",
       "  1,\n",
       "  1564,\n",
       "  Decimal('6.99'),\n",
       "  datetime.datetime(2007, 2, 16, 1, 15, 33, 996577)),\n",
       " (17514,\n",
       "  343,\n",
       "  2,\n",
       "  1879,\n",
       "  Decimal('0.99'),\n",
       "  datetime.datetime(2007, 2, 17, 1, 26, 0, 996577)),\n",
       " (17515,\n",
       "  343,\n",
       "  2,\n",
       "  1922,\n",
       "  Decimal('0.99'),\n",
       "  datetime.datetime(2007, 2, 17, 4, 32, 51, 996577)),\n",
       " (17516,\n",
       "  343,\n",
       "  2,\n",
       "  2461,\n",
       "  Decimal('6.99'),\n",
       "  datetime.datetime(2007, 2, 18, 18, 26, 38, 996577)),\n",
       " (17517,\n",
       "  343,\n",
       "  1,\n",
       "  2980,\n",
       "  Decimal('8.99'),\n",
       "  datetime.datetime(2007, 2, 20, 7, 3, 29, 996577)),\n",
       " (17518,\n",
       "  343,\n",
       "  1,\n",
       "  3407,\n",
       "  Decimal('0.99'),\n",
       "  datetime.datetime(2007, 2, 21, 14, 42, 28, 996577))]"
      ]
     },
     "execution_count": 15,
     "metadata": {},
     "output_type": "execute_result"
    }
   ],
   "source": [
    "cur.fetchmany(15) #cur.fetchall to get all the data\n"
   ]
  },
  {
   "cell_type": "code",
   "execution_count": 16,
   "metadata": {
    "collapsed": true
   },
   "outputs": [],
   "source": [
    "data= cur.fetchmany(5)"
   ]
  },
  {
   "cell_type": "code",
   "execution_count": 17,
   "metadata": {
    "collapsed": false
   },
   "outputs": [
    {
     "data": {
      "text/plain": [
       "Decimal('3.99')"
      ]
     },
     "execution_count": 17,
     "metadata": {},
     "output_type": "execute_result"
    }
   ],
   "source": [
    "data[0][4]"
   ]
  },
  {
   "cell_type": "code",
   "execution_count": 18,
   "metadata": {
    "collapsed": true
   },
   "outputs": [],
   "source": [
    "conn.close()"
   ]
  },
  {
   "cell_type": "code",
   "execution_count": 19,
   "metadata": {
    "collapsed": true
   },
   "outputs": [],
   "source": [
    "#https://wiki.postgresql.org/wiki/Psycopg2_Tutorial\n",
    "\n"
   ]
  },
  {
   "cell_type": "code",
   "execution_count": null,
   "metadata": {
    "collapsed": true
   },
   "outputs": [],
   "source": []
  }
 ],
 "metadata": {
  "anaconda-cloud": {},
  "kernelspec": {
   "display_name": "Python [conda root]",
   "language": "python",
   "name": "conda-root-py"
  },
  "language_info": {
   "codemirror_mode": {
    "name": "ipython",
    "version": 3
   },
   "file_extension": ".py",
   "mimetype": "text/x-python",
   "name": "python",
   "nbconvert_exporter": "python",
   "pygments_lexer": "ipython3",
   "version": "3.5.2"
  }
 },
 "nbformat": 4,
 "nbformat_minor": 1
}
