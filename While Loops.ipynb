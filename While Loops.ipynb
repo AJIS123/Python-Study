{
 "cells": [
  {
   "cell_type": "markdown",
   "metadata": {},
   "source": [
    "# While loops"
   ]
  },
  {
   "cell_type": "code",
   "execution_count": 1,
   "metadata": {
    "collapsed": false
   },
   "outputs": [
    {
     "name": "stdout",
     "output_type": "stream",
     "text": [
      "x is  0\n",
      "x is  1\n",
      "x is  2\n",
      "x is  3\n",
      "x is  4\n",
      "x is  5\n",
      "x is  6\n",
      "x is  7\n",
      "x is  8\n",
      "x is  9\n"
     ]
    }
   ],
   "source": [
    "x = 0\n",
    "\n",
    "while x<10:\n",
    "    print('x is ',x)\n",
    "    x+=1"
   ]
  },
  {
   "cell_type": "code",
   "execution_count": 2,
   "metadata": {
    "collapsed": false
   },
   "outputs": [
    {
     "name": "stdout",
     "output_type": "stream",
     "text": [
      "x is  0\n",
      "x is  1\n",
      "x is  2\n",
      "x is  3\n",
      "x is  4\n",
      "x is  5\n",
      "x is  6\n",
      "x is  7\n",
      "x is  8\n",
      "x is  9\n",
      "done\n"
     ]
    }
   ],
   "source": [
    "x= 0\n",
    "while x<10:\n",
    "    print('x is ',x)\n",
    "    x+=1\n",
    "else:\n",
    "    print('done')"
   ]
  },
  {
   "cell_type": "markdown",
   "metadata": {},
   "source": [
    "## break, continue, pass"
   ]
  },
  {
   "cell_type": "code",
   "execution_count": 3,
   "metadata": {
    "collapsed": true
   },
   "outputs": [],
   "source": [
    "#break: Breaks out of the current closest enclosing loop.\n",
    "#continue: Goes to the top of the closest enclosing loop.\n",
    "#pass: Does nothing at all\n"
   ]
  },
  {
   "cell_type": "code",
   "execution_count": 5,
   "metadata": {
    "collapsed": false
   },
   "outputs": [
    {
     "name": "stdout",
     "output_type": "stream",
     "text": [
      "x is 0\n",
      "x is less than 10\n",
      "continue....\n",
      "x is 1\n",
      "x is less than 10\n",
      "continue....\n",
      "x is 2\n",
      "x is less than 10\n",
      "continue....\n",
      "x is 3\n",
      "x is less than 10\n",
      "hai\n",
      "x is 4\n",
      "x is less than 10\n",
      "continue....\n",
      "x is 5\n",
      "x is less than 10\n",
      "continue....\n",
      "x is 6\n",
      "x is less than 10\n",
      "continue....\n",
      "x is 7\n",
      "x is less than 10\n",
      "continue....\n",
      "x is 8\n",
      "x is less than 10\n",
      "continue....\n",
      "x is 9\n",
      "x is less than 10\n",
      "continue....\n"
     ]
    }
   ],
   "source": [
    "x =0\n",
    "\n",
    "while x <10:\n",
    "    print('x is',x)\n",
    "    print('x is less than 10')\n",
    "    x+=1\n",
    "    \n",
    "    if x==4:\n",
    "        print('hai')\n",
    "    else:\n",
    "        print('continue....')\n",
    "        continue"
   ]
  },
  {
   "cell_type": "code",
   "execution_count": 6,
   "metadata": {
    "collapsed": false
   },
   "outputs": [
    {
     "name": "stdout",
     "output_type": "stream",
     "text": [
      "x is 0\n",
      "x is less than 10\n",
      "continue....\n",
      "x is 1\n",
      "x is less than 10\n",
      "continue....\n",
      "x is 2\n",
      "x is less than 10\n",
      "continue....\n",
      "x is 3\n",
      "x is less than 10\n",
      "hai\n"
     ]
    }
   ],
   "source": [
    "x =0\n",
    "\n",
    "while x <10:\n",
    "    print('x is',x)\n",
    "    print('x is less than 10')\n",
    "    x+=1\n",
    "    \n",
    "    if x==4:\n",
    "        print('hai')\n",
    "        break\n",
    "    else:\n",
    "        print('continue....')\n",
    "        continue"
   ]
  },
  {
   "cell_type": "code",
   "execution_count": 7,
   "metadata": {
    "collapsed": false
   },
   "outputs": [
    {
     "name": "stdout",
     "output_type": "stream",
     "text": [
      "x is 0\n",
      "x is less than 10\n",
      "continue....\n",
      "x is 1\n",
      "x is less than 10\n",
      "continue....\n",
      "x is 2\n",
      "x is less than 10\n",
      "continue....\n",
      "x is 3\n",
      "x is less than 10\n",
      "hai\n",
      "x is 4\n",
      "x is less than 10\n",
      "continue....\n",
      "x is 5\n",
      "x is less than 10\n",
      "continue....\n",
      "x is 6\n",
      "x is less than 10\n",
      "continue....\n",
      "x is 7\n",
      "x is less than 10\n",
      "continue....\n",
      "x is 8\n",
      "x is less than 10\n",
      "continue....\n",
      "x is 9\n",
      "x is less than 10\n",
      "continue....\n"
     ]
    }
   ],
   "source": [
    "x =0\n",
    "\n",
    "while x <10:\n",
    "    print('x is',x)\n",
    "    print('x is less than 10')\n",
    "    x+=1\n",
    "    \n",
    "    if x==4:\n",
    "        print('hai')\n",
    "\n",
    "    else:\n",
    "        print('continue....')"
   ]
  },
  {
   "cell_type": "code",
   "execution_count": null,
   "metadata": {
    "collapsed": true
   },
   "outputs": [],
   "source": []
  }
 ],
 "metadata": {
  "anaconda-cloud": {},
  "kernelspec": {
   "display_name": "Python [conda root]",
   "language": "python",
   "name": "conda-root-py"
  },
  "language_info": {
   "codemirror_mode": {
    "name": "ipython",
    "version": 3
   },
   "file_extension": ".py",
   "mimetype": "text/x-python",
   "name": "python",
   "nbconvert_exporter": "python",
   "pygments_lexer": "ipython3",
   "version": "3.5.2"
  }
 },
 "nbformat": 4,
 "nbformat_minor": 1
}
